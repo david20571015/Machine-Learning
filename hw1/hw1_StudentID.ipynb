{
 "cells": [
  {
   "cell_type": "code",
   "execution_count": 3,
   "metadata": {},
   "outputs": [],
   "source": [
    "import numpy as np\n",
    "import pandas as pd\n",
    "\n",
    "data_x_df = pd.read_csv('X.csv')\n",
    "data_t_df = pd.read_csv('T.csv')"
   ]
  }
 ],
 "metadata": {
  "interpreter": {
   "hash": "b445ccfa557170e9a1397e58540c0ba15a3370c0d87db55f340afe85843e37a4"
  },
  "kernelspec": {
   "display_name": "Python 3.8.10 64-bit ('env38': virtualenv)",
   "name": "python3"
  },
  "language_info": {
   "codemirror_mode": {
    "name": "ipython",
    "version": 3
   },
   "file_extension": ".py",
   "mimetype": "text/x-python",
   "name": "python",
   "nbconvert_exporter": "python",
   "pygments_lexer": "ipython3",
   "version": "3.8.10"
  }
 },
 "nbformat": 4,
 "nbformat_minor": 4
}
